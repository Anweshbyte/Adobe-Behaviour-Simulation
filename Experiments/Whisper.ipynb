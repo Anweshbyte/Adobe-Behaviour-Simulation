{
  "cells": [
    {
      "cell_type": "code",
      "execution_count": null,
      "metadata": {
        "colab": {
          "base_uri": "https://localhost:8080/"
        },
        "id": "zo4P3uCf0Iw8",
        "outputId": "7d25cab4-b3f0-424b-e2dc-d32b53e0e663"
      },
      "outputs": [
        {
          "name": "stdout",
          "output_type": "stream",
          "text": [
            "MoviePy - Writing audio in audio_1.mp3\n"
          ]
        },
        {
          "name": "stderr",
          "output_type": "stream",
          "text": []
        },
        {
          "name": "stdout",
          "output_type": "stream",
          "text": [
            "MoviePy - Done.\n",
            "MoviePy - Writing audio in audio_11.mp3\n"
          ]
        },
        {
          "name": "stderr",
          "output_type": "stream",
          "text": []
        },
        {
          "name": "stdout",
          "output_type": "stream",
          "text": [
            "MoviePy - Done.\n",
            "MoviePy - Writing audio in audio_21.mp3\n"
          ]
        },
        {
          "name": "stderr",
          "output_type": "stream",
          "text": []
        },
        {
          "name": "stdout",
          "output_type": "stream",
          "text": [
            "MoviePy - Done.\n",
            "MoviePy - Writing audio in audio_31.mp3\n"
          ]
        },
        {
          "name": "stderr",
          "output_type": "stream",
          "text": []
        },
        {
          "name": "stdout",
          "output_type": "stream",
          "text": [
            "MoviePy - Done.\n",
            "MoviePy - Writing audio in audio_41.mp3\n"
          ]
        },
        {
          "name": "stderr",
          "output_type": "stream",
          "text": []
        },
        {
          "name": "stdout",
          "output_type": "stream",
          "text": [
            "MoviePy - Done.\n",
            "MoviePy - Writing audio in audio_51.mp3\n"
          ]
        },
        {
          "name": "stderr",
          "output_type": "stream",
          "text": []
        },
        {
          "name": "stdout",
          "output_type": "stream",
          "text": [
            "MoviePy - Done.\n",
            "MoviePy - Writing audio in audio_61.mp3\n"
          ]
        },
        {
          "name": "stderr",
          "output_type": "stream",
          "text": []
        },
        {
          "name": "stdout",
          "output_type": "stream",
          "text": [
            "MoviePy - Done.\n",
            "MoviePy - Writing audio in audio_71.mp3\n"
          ]
        },
        {
          "name": "stderr",
          "output_type": "stream",
          "text": []
        },
        {
          "name": "stdout",
          "output_type": "stream",
          "text": [
            "MoviePy - Done.\n",
            "MoviePy - Writing audio in audio_81.mp3\n"
          ]
        },
        {
          "name": "stderr",
          "output_type": "stream",
          "text": []
        },
        {
          "name": "stdout",
          "output_type": "stream",
          "text": [
            "MoviePy - Done.\n",
            "MoviePy - Writing audio in audio_91.mp3\n"
          ]
        },
        {
          "name": "stderr",
          "output_type": "stream",
          "text": []
        },
        {
          "name": "stdout",
          "output_type": "stream",
          "text": [
            "MoviePy - Done.\n",
            "MoviePy - Writing audio in audio_101.mp3\n"
          ]
        },
        {
          "name": "stderr",
          "output_type": "stream",
          "text": []
        },
        {
          "name": "stdout",
          "output_type": "stream",
          "text": [
            "MoviePy - Done.\n",
            "MoviePy - Writing audio in audio_111.mp3\n"
          ]
        },
        {
          "name": "stderr",
          "output_type": "stream",
          "text": []
        },
        {
          "name": "stdout",
          "output_type": "stream",
          "text": [
            "MoviePy - Done.\n",
            "MoviePy - Writing audio in audio_121.mp3\n"
          ]
        },
        {
          "name": "stderr",
          "output_type": "stream",
          "text": []
        },
        {
          "name": "stdout",
          "output_type": "stream",
          "text": [
            "MoviePy - Done.\n",
            "MoviePy - Writing audio in audio_131.mp3\n"
          ]
        },
        {
          "name": "stderr",
          "output_type": "stream",
          "text": []
        },
        {
          "name": "stdout",
          "output_type": "stream",
          "text": [
            "MoviePy - Done.\n",
            "MoviePy - Writing audio in audio_141.mp3\n"
          ]
        },
        {
          "name": "stderr",
          "output_type": "stream",
          "text": []
        },
        {
          "name": "stdout",
          "output_type": "stream",
          "text": [
            "MoviePy - Done.\n",
            "MoviePy - Writing audio in audio_151.mp3\n"
          ]
        },
        {
          "name": "stderr",
          "output_type": "stream",
          "text": []
        },
        {
          "name": "stdout",
          "output_type": "stream",
          "text": [
            "MoviePy - Done.\n",
            "MoviePy - Writing audio in audio_161.mp3\n"
          ]
        },
        {
          "name": "stderr",
          "output_type": "stream",
          "text": []
        },
        {
          "name": "stdout",
          "output_type": "stream",
          "text": [
            "MoviePy - Done.\n",
            "MoviePy - Writing audio in audio_171.mp3\n"
          ]
        },
        {
          "name": "stderr",
          "output_type": "stream",
          "text": []
        },
        {
          "name": "stdout",
          "output_type": "stream",
          "text": [
            "MoviePy - Done.\n",
            "audio_1.mp3: 10.03 seconds\n",
            "audio_11.mp3: 10.03 seconds\n",
            "audio_21.mp3: 10.03 seconds\n",
            "audio_31.mp3: 10.03 seconds\n",
            "audio_41.mp3: 10.03 seconds\n",
            "audio_51.mp3: 10.03 seconds\n",
            "audio_61.mp3: 10.03 seconds\n",
            "audio_71.mp3: 10.03 seconds\n",
            "audio_81.mp3: 10.03 seconds\n",
            "audio_91.mp3: 10.03 seconds\n",
            "audio_101.mp3: 10.03 seconds\n",
            "audio_111.mp3: 10.03 seconds\n",
            "audio_121.mp3: 10.03 seconds\n",
            "audio_131.mp3: 10.03 seconds\n",
            "audio_141.mp3: 10.03 seconds\n",
            "audio_151.mp3: 10.03 seconds\n",
            "audio_161.mp3: 10.03 seconds\n",
            "audio_171.mp3: 10.03 seconds\n"
          ]
        }
      ],
      "source": [
        "import os\n",
        "import requests\n",
        "from io import BytesIO\n",
        "import moviepy.editor as mp\n",
        "from moviepy.config import change_settings\n",
        "\n",
        "# Disable SSL verification to prevent MoviePy SSL issues\n",
        "change_settings({\"FFMPEG_READER_ARGS\": [\"-no_check_certificate\"]})\n",
        "\n",
        "# URL of the video\n",
        "video_url = \"https://video.twimg.com/amplify_video/1323520120866701312/vid/720x720/R6wOzSdoCY-K6zvZ.mp4\"\n",
        "\n",
        "# Specify start and end seconds\n",
        "start = 1\n",
        "#end = 10\n",
        "\n",
        "# Download the video file\n",
        "response = requests.get(video_url, stream=True)\n",
        "video_data = BytesIO(response.content)\n",
        "\n",
        "# Save the video data to a temporary file\n",
        "temp_video_path = \"temp_video.mp4\"\n",
        "with open(temp_video_path, \"wb\") as temp_video_file:\n",
        "    temp_video_file.write(video_data.read())\n",
        "\n",
        "# Load the video clip from the temporary file\n",
        "clip = mp.VideoFileClip(temp_video_path)\n",
        "#end = min(clip.duration, end)\n",
        "end = clip.duration\n",
        "# Save the paths for later\n",
        "clip_paths = []\n",
        "\n",
        "# Extract Audio-only from mp4\n",
        "for i in range(start, int(end), 10):\n",
        "    sub_end = min(i + 10, end)\n",
        "    sub_clip = clip.subclip(i, sub_end)\n",
        "\n",
        "    sub_clip.audio.write_audiofile(f\"audio_{i}.mp3\")\n",
        "    clip_paths.append(f\"audio_{i}.mp3\")\n",
        "\n",
        "# Display audio durations\n",
        "for path in clip_paths:\n",
        "    audio_clip = mp.AudioFileClip(path)\n",
        "    print(f\"{path}: {audio_clip.duration} seconds\")\n",
        "\n",
        "# Clean up: Delete the temporary video file\n",
        "clip.reader.close()\n",
        "clip.audio.reader.close_proc()\n",
        "response.close()\n",
        "os.remove(temp_video_path)"
      ]
    },
    {
      "cell_type": "code",
      "execution_count": null,
      "metadata": {
        "colab": {
          "base_uri": "https://localhost:8080/"
        },
        "id": "KMPcVp3p9_w6",
        "outputId": "97df4a25-8420-4aec-e8e1-3e7f510ccb8f"
      },
      "outputs": [
        {
          "data": {
            "text/plain": [
              "['audio_1.mp3',\n",
              " 'audio_11.mp3',\n",
              " 'audio_21.mp3',\n",
              " 'audio_31.mp3',\n",
              " 'audio_41.mp3',\n",
              " 'audio_51.mp3',\n",
              " 'audio_61.mp3',\n",
              " 'audio_71.mp3',\n",
              " 'audio_81.mp3',\n",
              " 'audio_91.mp3',\n",
              " 'audio_101.mp3',\n",
              " 'audio_111.mp3',\n",
              " 'audio_121.mp3',\n",
              " 'audio_131.mp3',\n",
              " 'audio_141.mp3',\n",
              " 'audio_151.mp3',\n",
              " 'audio_161.mp3',\n",
              " 'audio_171.mp3']"
            ]
          },
          "execution_count": 2,
          "metadata": {},
          "output_type": "execute_result"
        }
      ],
      "source": [
        "clip_paths"
      ]
    },
    {
      "cell_type": "code",
      "execution_count": null,
      "metadata": {
        "colab": {
          "base_uri": "https://localhost:8080/"
        },
        "id": "jzxe3TweAu_O",
        "outputId": "114091db-2b55-44b2-c7b6-345c7adccdbc"
      },
      "outputs": [
        {
          "name": "stdout",
          "output_type": "stream",
          "text": [
            "Collecting git+https://github.com/openai/whisper.git\n",
            "  Cloning https://github.com/openai/whisper.git to /tmp/pip-req-build-8hmovofs\n",
            "  Running command git clone --filter=blob:none --quiet https://github.com/openai/whisper.git /tmp/pip-req-build-8hmovofs\n",
            "  Resolved https://github.com/openai/whisper.git to commit e58f28804528831904c3b6f2c0e473f346223433\n",
            "  Installing build dependencies ... \u001b[?25l\u001b[?25hdone\n",
            "  Getting requirements to build wheel ... \u001b[?25l\u001b[?25hdone\n",
            "  Preparing metadata (pyproject.toml) ... \u001b[?25l\u001b[?25hdone\n",
            "Requirement already satisfied: triton<3,>=2.0.0 in /usr/local/lib/python3.10/dist-packages (from openai-whisper==20231117) (2.1.0)\n",
            "Requirement already satisfied: numba in /usr/local/lib/python3.10/dist-packages (from openai-whisper==20231117) (0.58.1)\n",
            "Requirement already satisfied: numpy in /usr/local/lib/python3.10/dist-packages (from openai-whisper==20231117) (1.23.5)\n",
            "Requirement already satisfied: torch in /usr/local/lib/python3.10/dist-packages (from openai-whisper==20231117) (2.1.0+cu118)\n",
            "Requirement already satisfied: tqdm in /usr/local/lib/python3.10/dist-packages (from openai-whisper==20231117) (4.66.1)\n",
            "Requirement already satisfied: more-itertools in /usr/local/lib/python3.10/dist-packages (from openai-whisper==20231117) (10.1.0)\n",
            "Collecting tiktoken (from openai-whisper==20231117)\n",
            "  Downloading tiktoken-0.5.2-cp310-cp310-manylinux_2_17_x86_64.manylinux2014_x86_64.whl (2.0 MB)\n",
            "\u001b[2K     \u001b[90m━━━━━━━━━━━━━━━━━━━━━━━━━━━━━━━━━━━━━━━━\u001b[0m \u001b[32m2.0/2.0 MB\u001b[0m \u001b[31m21.0 MB/s\u001b[0m eta \u001b[36m0:00:00\u001b[0m\n",
            "\u001b[?25hRequirement already satisfied: filelock in /usr/local/lib/python3.10/dist-packages (from triton<3,>=2.0.0->openai-whisper==20231117) (3.13.1)\n",
            "Requirement already satisfied: llvmlite<0.42,>=0.41.0dev0 in /usr/local/lib/python3.10/dist-packages (from numba->openai-whisper==20231117) (0.41.1)\n",
            "Requirement already satisfied: regex>=2022.1.18 in /usr/local/lib/python3.10/dist-packages (from tiktoken->openai-whisper==20231117) (2023.6.3)\n",
            "Requirement already satisfied: requests>=2.26.0 in /usr/local/lib/python3.10/dist-packages (from tiktoken->openai-whisper==20231117) (2.31.0)\n",
            "Requirement already satisfied: typing-extensions in /usr/local/lib/python3.10/dist-packages (from torch->openai-whisper==20231117) (4.5.0)\n",
            "Requirement already satisfied: sympy in /usr/local/lib/python3.10/dist-packages (from torch->openai-whisper==20231117) (1.12)\n",
            "Requirement already satisfied: networkx in /usr/local/lib/python3.10/dist-packages (from torch->openai-whisper==20231117) (3.2.1)\n",
            "Requirement already satisfied: jinja2 in /usr/local/lib/python3.10/dist-packages (from torch->openai-whisper==20231117) (3.1.2)\n",
            "Requirement already satisfied: fsspec in /usr/local/lib/python3.10/dist-packages (from torch->openai-whisper==20231117) (2023.6.0)\n",
            "Requirement already satisfied: charset-normalizer<4,>=2 in /usr/local/lib/python3.10/dist-packages (from requests>=2.26.0->tiktoken->openai-whisper==20231117) (3.3.2)\n",
            "Requirement already satisfied: idna<4,>=2.5 in /usr/local/lib/python3.10/dist-packages (from requests>=2.26.0->tiktoken->openai-whisper==20231117) (3.6)\n",
            "Requirement already satisfied: urllib3<3,>=1.21.1 in /usr/local/lib/python3.10/dist-packages (from requests>=2.26.0->tiktoken->openai-whisper==20231117) (2.0.7)\n",
            "Requirement already satisfied: certifi>=2017.4.17 in /usr/local/lib/python3.10/dist-packages (from requests>=2.26.0->tiktoken->openai-whisper==20231117) (2023.11.17)\n",
            "Requirement already satisfied: MarkupSafe>=2.0 in /usr/local/lib/python3.10/dist-packages (from jinja2->torch->openai-whisper==20231117) (2.1.3)\n",
            "Requirement already satisfied: mpmath>=0.19 in /usr/local/lib/python3.10/dist-packages (from sympy->torch->openai-whisper==20231117) (1.3.0)\n",
            "Building wheels for collected packages: openai-whisper\n",
            "  Building wheel for openai-whisper (pyproject.toml) ... \u001b[?25l\u001b[?25hdone\n",
            "  Created wheel for openai-whisper: filename=openai_whisper-20231117-py3-none-any.whl size=801356 sha256=c7367a5a9476ab66e66e7f2fe7290a891f56fe6703ae291963662d622b010fbe\n",
            "  Stored in directory: /tmp/pip-ephem-wheel-cache-fc0ag1w_/wheels/8b/6c/d0/622666868c179f156cf595c8b6f06f88bc5d80c4b31dccaa03\n",
            "Successfully built openai-whisper\n",
            "Installing collected packages: tiktoken, openai-whisper\n",
            "\u001b[31mERROR: pip's dependency resolver does not currently take into account all the packages that are installed. This behaviour is the source of the following dependency conflicts.\n",
            "llmx 0.0.15a0 requires cohere, which is not installed.\n",
            "llmx 0.0.15a0 requires openai, which is not installed.\u001b[0m\u001b[31m\n",
            "\u001b[0mSuccessfully installed openai-whisper-20231117 tiktoken-0.5.2\n"
          ]
        }
      ],
      "source": [
        "pip install git+https://github.com/openai/whisper.git"
      ]
    },
    {
      "cell_type": "markdown",
      "metadata": {
        "id": "Mpec_hSCyn-j"
      },
      "source": [
        "##Whisper LARGE"
      ]
    },
    {
      "cell_type": "code",
      "execution_count": null,
      "metadata": {
        "colab": {
          "base_uri": "https://localhost:8080/"
        },
        "id": "ILSB043TxZV1",
        "outputId": "184222b5-39f3-4c54-c227-a9a797c25d46"
      },
      "outputs": [
        {
          "name": "stderr",
          "output_type": "stream",
          "text": [
            "100%|█████████████████████████████████████| 2.88G/2.88G [00:36<00:00, 85.5MiB/s]\n"
          ]
        }
      ],
      "source": [
        "import whisper\n",
        "\n",
        "model = whisper.load_model(\"large\")\n",
        "all_results = []\n",
        "\n",
        "for audio in clip_paths:\n",
        "  result = model.transcribe(audio)\n",
        "  text_result = result[\"text\"]\n",
        "  all_results.append(text_result)"
      ]
    },
    {
      "cell_type": "code",
      "execution_count": null,
      "metadata": {
        "colab": {
          "base_uri": "https://localhost:8080/"
        },
        "id": "vOVhC_vHDf4_",
        "outputId": "c5eaf2c2-91a7-4a59-b74e-671e6cebbc56"
      },
      "outputs": [
        {
          "name": "stdout",
          "output_type": "stream",
          "text": [
            "[\" What's wrong here? How's that? Is that getting better? Yes!\", ' And they were supposed to pay these people, right? No. Is that better? Yeah. Come on. Come on.', \" Okay, we'll do this. We'll have to improvise, you know? Sometimes you have to improvise. Okay, you ready?\", ' Which is better, this one or this one? . THE PRESIDENT. THE PRESIDENT.', \" The President's office is right here. This could be a very uncomfortable evening for me. All right. We'll figure this out. Come on. Let's go. Good job, everybody. We'll be right back. Thank you. I think we're going to be a good night.\", \" I'm always saying I want a perfect mic. And as I'm sure you've heard, Biden's far left support\", \" supporters are threatening to loot and riot tomorrow if they don't get their way. If they don't get their way. Are we all ready, David? Everybody ready?\", \" If they know we're ready and if they know we're not playing games, they won't even be here. They won't show up. You know, it's like I brought an old law.\", ' into existence when I saw them going around all over the country knocking down statues, right, and monuments. And we signed. We brought it in, and I signed it, updated it, signed it.', \" 10 years in prison, if you knock down a statue or monument, and you don't see it anymore. They look and they say, oh, we'd like to knock that one down.\", \" But you know what? 10 years is too much, darling. Let's leave now. And if Biden and Kamala, you don't have to say it, Kamala, Kamala.\", \" If Biden and Kamala Harris, who's further left by far than crazy Bernie Sanders, right? He's considered a strict,\", \" conservative compared to her. How the hell did he ever pick her, Mike? Where's Mike? How did that ever happen? That turned out\", \" I don't think that's going to be a good pick. You're going to find out tomorrow. By the way, she happens to be slightly against fracking. She's still against fracking, you know. Isn't that amazing?\", \" Isn't that amazing? Biden goes like, I'm against for a year and a half. You know, he's running, running. Nobody gave him a chance because he never got more than 1% in primetime, right?\", ' five years ago. The guy never got 1 percent. And, you know, he never had what it took. He was a glad-hander. Not a smart guy. Not a nice guy, either.', \" not a nice guy. But he was, well, I used to call him 1% Joe, because he ran for president all the time, and he never got more than 1%. Now he's got to be 1%.\", ' half the intelligence he had 20 years ago, and he wins. Politics is a strange business.']\n"
          ]
        }
      ],
      "source": [
        "print(all_results)"
      ]
    },
    {
      "cell_type": "markdown",
      "metadata": {
        "id": "Pz0K0dNsylGm"
      },
      "source": [
        "##Whisper TINY"
      ]
    },
    {
      "cell_type": "code",
      "execution_count": null,
      "metadata": {
        "colab": {
          "base_uri": "https://localhost:8080/"
        },
        "id": "NV8BybX5yO2q",
        "outputId": "0e561ca6-eaa4-48ac-b83e-4662855611f1"
      },
      "outputs": [
        {
          "name": "stderr",
          "output_type": "stream",
          "text": [
            "100%|█████████████████████████████████████| 72.1M/72.1M [00:01<00:00, 56.1MiB/s]\n"
          ]
        }
      ],
      "source": [
        "import whisper\n",
        "\n",
        "model = whisper.load_model(\"tiny\")\n",
        "all_results = []\n",
        "\n",
        "for audio in clip_paths:\n",
        "  result = model.transcribe(audio)\n",
        "  text_result = result[\"text\"]\n",
        "  all_results.append(text_result)"
      ]
    },
    {
      "cell_type": "code",
      "execution_count": null,
      "metadata": {
        "colab": {
          "base_uri": "https://localhost:8080/"
        },
        "id": "iYr8Ie13ySPC",
        "outputId": "39c407a6-4f33-461d-ba09-f5596df6a589"
      },
      "outputs": [
        {
          "name": "stdout",
          "output_type": "stream",
          "text": [
            "[\" Watch wrong here. How's that? Is it getting better?\", ' And there was supposed to pay these people right. Is that better? Come on.', \" Okay, well, do this. We'll have to improvise, you know, sometimes happy. Okay, you ready? We'll have a cup.\", ' Which is better? This one or this one? Which one? This one? Is that better? Can you hear?', ' here. This could be a very uncomfortable evening for me. Alright, well figured. Yeah, shut my head. Good job.', \" I'm always saying I want a perfect bike, a good job. Unbelievable. Unbelievable. And as I'm sure you've heard Biden's far-left son of a bitch,\", \" supporters are threatening to loot and riot tomorrow if they don't get their way. We already have it everybody ready?\", \" out, which if they know we're ready and if they know we're not playing games, they won't even be here, they won't show up. You know it's like I brought it all to law.\", ' into existence when I saw them going around all over the country, knocking down statues, right, and monuments. And we signed, we brought it in, and I signed it, updated, and signed it.', \" 10 years in prison if you knock down a statue or monument and you don't see it anymore They look and they say oh would like to knock that one down\", \" but you know what, 10 years is too much darling. Let's leave now. And if Biden and Kamala, you know what I said, Kamala.\", \" Biden and Kamala Harris, who's further left by far than Crazy Bernie Sanders, right? He's considered a strict\", ' conservative compared to her. How to hell that you have a pick her a Mike wins by how to that ever happen that turned out', \" I don't think that's going to be a good pick. You're going to find out tomorrow, by the way, she happens to be slightly against brackets. She's still against brackets. Isn't that amazing?\", \" That amazing Biden goes like, I'm against for a year and a half, you know, he's running, running, nobody gave me a chance because he never got more than 1% in prime time, right?\", ' five years. I never got one percent. He never had what it took. He was a glad hander. Not a smart guy, not a nice guy either.', ' not a nice guy, but he was, why used to call him 1% Joe because he ran for president all the time, and he never got more than 1%.', ' half the intelligence he had 20 years ago. And he wins. Politics is a strange business.']\n"
          ]
        }
      ],
      "source": [
        "print(all_results)"
      ]
    },
    {
      "cell_type": "code",
      "execution_count": null,
      "metadata": {
        "id": "s8q_bKsZyXfj"
      },
      "outputs": [],
      "source": []
    }
  ],
  "metadata": {
    "accelerator": "GPU",
    "colab": {
      "gpuType": "T4",
      "provenance": []
    },
    "kernelspec": {
      "display_name": "Python 3",
      "name": "python3"
    },
    "language_info": {
      "name": "python"
    }
  },
  "nbformat": 4,
  "nbformat_minor": 0
}
